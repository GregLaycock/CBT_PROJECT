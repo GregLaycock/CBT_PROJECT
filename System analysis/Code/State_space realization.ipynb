{
 "cells": [
  {
   "cell_type": "code",
   "execution_count": 1,
   "metadata": {
    "collapsed": true
   },
   "outputs": [],
   "source": [
    "from System import system\n",
    "import numpy as np\n",
    "import numpy\n",
    "import sympy as sp\n",
    "from steady_state_values import steady_state\n",
    "# sp.init_printing()"
   ]
  },
  {
   "cell_type": "code",
   "execution_count": 2,
   "metadata": {
    "collapsed": true
   },
   "outputs": [],
   "source": [
    "t = sp.Symbol('t')\n",
    "s = sp.Symbol('s')\n",
    "theta = sp.Symbol('theta')"
   ]
  },
  {
   "cell_type": "markdown",
   "metadata": {},
   "source": [
    "Assumptions:\n",
    "Bad mixing is approximated by 3 jacket system. We will assume that the bottom 3rd of the tank is always full as this is already well outside the operating limits. therefore h1 = L/3 , h2 = L/3 (\n",
    "\n",
    "Since state space models cannot handle dead-time, Cc_measured is not considered as an output but instead Cc is. Deadtime does not affect the poles or zeros of a system and once a transfer function representation is obtained, one can simply add an e^(-theta*s) term to get to Cc_measured from Cc."
   ]
  },
  {
   "cell_type": "code",
   "execution_count": 3,
   "metadata": {
    "collapsed": false
   },
   "outputs": [],
   "source": [
    "# Parameters (do not change these unless specifically asked)\\\n",
    "pi = numpy.pi\n",
    "Ko = 2.941e8  # m^3/(s*kmol)\n",
    "Ea = 75360  # KJ/kmol\n",
    "R = 8.313  # KJ/(kmol K)\n",
    "rho_a = 801.2  # kg/m^3\n",
    "rho_b = 966.2  # kg/m^3\n",
    "rho_c = 1004   # kg/m^3\n",
    "rho_solvent = 764.6  # kg/m^3\n",
    "rhocw = 966.2  # kg/m^3 Water density\n",
    "MM_A = 58.1  # kg/kmol\n",
    "MM_B = 18  # kg/kmol\n",
    "MM_C = 76.09  # kg/kmol\n",
    "Cv1 = 3.089e-3  # m^2\n",
    "alpha1 = 2\n",
    "delta_Pv1 = 703.6  # Pa\n",
    "delta_Pv3 = 1000  #Pa\n",
    "alpha3 = 2\n",
    "Cv2 = 1.33e-3  # m^2\n",
    "Cv3 = (2.360e-3/(2**(-0.5)))/(numpy.sqrt(delta_Pv3/966.2))  #m^2\n",
    "alpha2 = 2\n",
    "g = 9.807  # m/s^2\n",
    "tau_v1 = 36\n",
    "zeta_v1 = 0.35\n",
    "Kv1 = 1/80  # 1/Kpa\n",
    "tau_v2 = 36\n",
    "tau_v3 = 36\n",
    "Kv2 = 1/80  # 1/Kpa\n",
    "Kv3 = 1/80\n",
    "Cp1 = 2.522  # KJ/kg degC\n",
    "Cp2 = 4.187  # KJ/kg degC\n",
    "Cp3 = 2.531  # KJ/kg degC\n",
    "Cpcw = 4.187  # Kj/kg degC\n",
    "delta_H = -84660  # Kj/kmol A\n",
    "Uj = 4.750  # kW/(m^2 degC)\n",
    "D = 1  # m\n",
    "U_air = 44.5/1000  # kW/(m^2 degC)\n",
    "L = 1.5*D  # m\n",
    "A = (pi/4)*(D**2)  # m^2\n",
    "To = 21.1  # degC\n",
    "theta = 90  # s\n",
    "Vj = ((pi/4)*(D*1.1)**2 - A)*L/3\n",
    "\n",
    "\n",
    "# assumed constant\n",
    "Cbo = 50 # kmol/m3\n",
    "Tcwo = 29.4 # degC\n",
    "Tao = 24 # degC\n"
   ]
  },
  {
   "cell_type": "code",
   "execution_count": 8,
   "metadata": {
    "collapsed": false
   },
   "outputs": [],
   "source": [
    "\n",
    "\n",
    "## equations\n",
    "\n",
    "var = ['Ca',\n",
    "       'Cb',\n",
    "       'Cc',\n",
    "       'Na',\n",
    "       'K',\n",
    "       'V',\n",
    "       'p1',\n",
    "       'p2',\n",
    "       'p3',\n",
    "       'rao',\n",
    "       'rbo',\n",
    "       'ra',\n",
    "       'rb',\n",
    "       'rc',\n",
    "       'rsolvent',\n",
    "       'F2',\n",
    "       'F3',\n",
    "       'Fcw',\n",
    "       'del_PV2',\n",
    "       'xv1',\n",
    "       'xv2',\n",
    "       'xv3',\n",
    "       'T',\n",
    "       'Tcw',\n",
    "       'Qj',\n",
    "       'Qair',\n",
    "       'H',\n",
    "       'Cao',\n",
    "       'F1',\n",
    "       'Ps1',\n",
    "       'Ps2',\n",
    "       'Ps3',\n",
    "       'Tbo',\n",
    "       'Fcw',\n",
    "       'Tcw',\n",
    "       'dVCa_dt',\n",
    "        'dVCb_dt',\n",
    "      'dVCc_dt',\n",
    "      'dVp3_dt',\n",
    "      'dxv1_dt',\n",
    "      'dxv2_dt',\n",
    "      'dxv3_dt',\n",
    "      'z',\n",
    "      'dz_dt',\n",
    "      'dxv2_dt',\n",
    "      'dxv3_dt',\n",
    "      'dp3VT_dt',\n",
    "      'dFcwT_dt']\n",
    "\n",
    "[Ca,Cb,Cc,Na,K,V,p1,p2,p3,rao,rbo,ra,rb,rc,rsolvent,F2,F3,Fcw,del_PV2,xv1,xv2,xv3,\n",
    " T,Tcw,Qj,Qair,H,Cao,F1,Ps1,Ps2,Ps3,Tbo,Fcw,Tcw,dVCa_dt,dVCb_dt,dVCc_dt,dVp3_dt,dxv1_dt,\n",
    " dxv2_dt,dxv3_dt,z,dz_dt,dxv2_dt,dxv3_dt,dp3VT_dt,dFcwT_dt] = sp.symbols(var)\n",
    "\n",
    "dstates = [dVCa_dt,dVCb_dt,dVCc_dt,dVp3_dt,dxv1_dt,\n",
    " dxv2_dt,dxv3_dt,z,dz_dt,dxv2_dt,dxv3_dt,dp3VT_dt,dFcwT_dt]\n",
    "\n",
    "ss_ders = np.zeros(len(dstates))\n",
    "ss_subs= zip(dstates,ss_ders)\n",
    "\n",
    "states= [V*Ca,V*Cb,V*Cc,V*p3,xv1,xv2,xv3,z,xv2,xv3,p3*V*T,Fcw*Tcw]\n",
    "\n",
    "variables =  [F2, F3,Fcw, Ca, Cb, Cc, Na,K,V,xv1,z,xv2,xv3, p1,p2,p3,T,Qj,Tcw,Qair,rao,\n",
    "              rbo,ra,rb,rc,rsolvent,H,del_PV2]\n",
    "\n",
    "outputs = [F2, F3,Fcw, Ca, Cb, Cc, Na,K,V, p1,p2,p3,T,Qj,Tcw,Qair,rao,\n",
    "              rbo,ra,rb,rc,rsolvent,H,del_PV2]\n",
    "\n",
    "exogenous_inputs = [Ps1,Ps2,Ps3,Cao,Tbo,F1]\n",
    "\n",
    "LHS = [F1*Cao,\n",
    "       F2*Cbo,\n",
    "       Na*V,\n",
    "       Na,\n",
    "       K,\n",
    "       p1*F1+p2*F2,\n",
    "       1/p1,\n",
    "      1/p2,\n",
    "      1/p3,\n",
    "      rao,\n",
    "      rbo,\n",
    "      ra,\n",
    "      rb,\n",
    "      rc,\n",
    "      rsolvent,\n",
    "      F2,\n",
    "      Fcw,\n",
    "      F3,\n",
    "      del_PV2,\n",
    "      tau_v2**2 * dz_dt + 2* zeta_v1*tau_v1*z + xv1,\n",
    "      z,\n",
    "      tau_v2*dxv2_dt + xv2,\n",
    "      tau_v3*dxv3_dt + xv3,\n",
    "      p1*F1*Cp1*Tao+p2*F2*Cp2*Tbo - delta_H*ra,\n",
    "      dFcwT_dt,\n",
    "      Qj,\n",
    "      Qair,\n",
    "      H]\n",
    "\n",
    "RHS = [F3*Ca + Na*V + dVCa_dt,\n",
    "       F3*Cb + Na*V + dVCb_dt,\n",
    "       F3*Cc + dVCc_dt,\n",
    "       K*Ca*Cb,\n",
    "       Ko*sp.exp(-Ea/(R*T)),\n",
    "       p3*F3 + dVp3_dt,\n",
    "       rao/rho_a + (1-rao)/rho_solvent,\n",
    "       rbo/rho_b + (1-rbo)/rho_solvent,\n",
    "       ra/rho_a + rb/rho_b + rc/rho_c + rsolvent/rho_solvent,\n",
    "       Cao*MM_A/p1,\n",
    "       Cbo*MM_B/p2,\n",
    "       Ca*MM_A/p3,\n",
    "       Cb*MM_B/p3,\n",
    "       Cc*MM_C/p3,\n",
    "       1 - (ra+rb+rc),\n",
    "       Cv1*alpha1**(xv1-1)*sp.sqrt(delta_Pv1/p2),\n",
    "       Cv3*alpha3**(xv3-1)*sp.sqrt(delta_Pv3/rhocw),\n",
    "       Cv2*alpha2**(xv2-1)*sp.sqrt(del_PV2/p3),\n",
    "       p3*g*H,\n",
    "       Kv1*Ps1,\n",
    "       dxv1_dt,\n",
    "       Kv2*Ps2,\n",
    "       Kv3*Ps3,\n",
    "       p3*F3*Cp3*T + Qj + Cp3*dp3VT_dt,\n",
    "       Fcw*rhocw*(Tcwo-Tcw) + Qj - Qair,\n",
    "       Uj*(pi*D)*(H*(T-Tcw)),\n",
    "       U_air*(pi*D)*(L-H)*(T-Tcw),  \n",
    "       V/A]\n"
   ]
  },
  {
   "cell_type": "code",
   "execution_count": 9,
   "metadata": {
    "collapsed": false
   },
   "outputs": [
    {
     "data": {
      "text/plain": [
       "0"
      ]
     },
     "execution_count": 9,
     "metadata": {},
     "output_type": "execute_result"
    }
   ],
   "source": [
    "# check dof\n",
    "\n",
    "len(variables) - len(LHS)"
   ]
  },
  {
   "cell_type": "code",
   "execution_count": null,
   "metadata": {
    "collapsed": false
   },
   "outputs": [],
   "source": [
    "# getting steady state\n",
    "RhS = np.array([f.subs(zip(dstates,ss_ders)) for f in RHS])\n",
    "LhS = np.array([f.subs(zip(dstates,ss_ders)) for f in LHS])\n",
    "prob = RhS - LhS\n",
    "sol = sp.solve(prob,variables)\n",
    "ss = solution\n",
    "ss\n"
   ]
  },
  {
   "cell_type": "code",
   "execution_count": null,
   "metadata": {
    "collapsed": false
   },
   "outputs": [],
   "source": [
    "# linearizing\n",
    "\n",
    "def lin(f,var,ss):  # linearizes for all variables that we have defined. will not touch derrivatives(Rightfully so)\n",
    "    ret = 0\n",
    "    for i, v in enumerate(var):\n",
    "        df = sp.diff(f,v)\n",
    "        for j, k in enumerate(var):\n",
    "            if j != i:\n",
    "                df.subs(k,ss[j])\n",
    "        df *= (v - ss[i])\n",
    "        ret += df\n",
    "    return ret"
   ]
  }
 ],
 "metadata": {
  "kernelspec": {
   "display_name": "Python 3",
   "language": "python",
   "name": "python3"
  },
  "language_info": {
   "codemirror_mode": {
    "name": "ipython",
    "version": 3
   },
   "file_extension": ".py",
   "mimetype": "text/x-python",
   "name": "python",
   "nbconvert_exporter": "python",
   "pygments_lexer": "ipython3",
   "version": "3.6.0"
  }
 },
 "nbformat": 4,
 "nbformat_minor": 2
}
