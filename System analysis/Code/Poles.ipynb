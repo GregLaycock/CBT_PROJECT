{
 "cells": [
  {
   "cell_type": "code",
   "execution_count": 1,
   "metadata": {
    "collapsed": true
   },
   "outputs": [],
   "source": [
    "from Scaling import scaling,umax,dmax,emax\n",
    "import numpy as np\n",
    "import System\n",
    "import sympy as sp\n",
    "sp.init_printing()\n",
    "from System import system\n",
    "s = sp.Symbol('s')"
   ]
  },
  {
   "cell_type": "code",
   "execution_count": 2,
   "metadata": {
    "collapsed": false
   },
   "outputs": [],
   "source": [
    "sys = system()"
   ]
  },
  {
   "cell_type": "code",
   "execution_count": 3,
   "metadata": {
    "collapsed": false
   },
   "outputs": [
    {
     "data": {
      "text/plain": [
       "[[[-0.00617283950617284],\n",
       "  [-0.00819672131147541, -0.00291545189504373],\n",
       "  [-0.00702368692070031 - 0.00753194822192866*I,\n",
       "   -0.00702368692070031 + 0.00753194822192866*I]],\n",
       " [[-0.00505050505050505],\n",
       "  [-0.00862068965517241, -0.00287356321839080],\n",
       "  [-0.00754696132596685 - 0.0080709212515236*I,\n",
       "   -0.00754696132596685 + 0.0080709212515236*I]],\n",
       " [[-0.00197628458498024], [-0.00292397660818713], [-0.00526315789473684]]]"
      ]
     },
     "execution_count": 3,
     "metadata": {},
     "output_type": "execute_result"
    }
   ],
   "source": [
    "sys.poles[0]"
   ]
  },
  {
   "cell_type": "code",
   "execution_count": 4,
   "metadata": {
    "collapsed": false
   },
   "outputs": [
    {
     "data": {
      "text/plain": [
       "[[[], [0.000157391304347826], []],\n",
       " [[], [0.0124731182795699], []],\n",
       " [[], [], []]]"
      ]
     },
     "execution_count": 4,
     "metadata": {},
     "output_type": "execute_result"
    }
   ],
   "source": [
    "sys.zeros[0]"
   ]
  },
  {
   "cell_type": "code",
   "execution_count": 10,
   "metadata": {
    "collapsed": false
   },
   "outputs": [
    {
     "data": {
      "text/plain": [
       "matrix([[  5.69e-06 +6.17e-05j,  -1.10e-05 -1.67e-05j,   1.44e-10 +9.01e-10j],\n",
       "        [  3.15e-05 -7.24e-07j,   9.82e-06 -7.38e-06j,  -1.71e-09 -7.50e-11j],\n",
       "        [ -8.61e-06 -1.00e-05j,   8.89e-06 -1.69e-05j,   3.21e-08 +2.34e-07j]])"
      ]
     },
     "execution_count": 10,
     "metadata": {},
     "output_type": "execute_result"
    }
   ],
   "source": [
    "sys.Gp(1j*300)"
   ]
  },
  {
   "cell_type": "code",
   "execution_count": 6,
   "metadata": {
    "collapsed": false
   },
   "outputs": [
    {
     "data": {
      "text/plain": [
       "matrix([[  3.83e-102,   1.92e-120,   4.69e-112],\n",
       "        [  4.08e-038,   1.47e-021,   3.73e-007],\n",
       "        [ -1.74e-006,  -6.85e-005,   6.01e+001]])"
      ]
     },
     "execution_count": 6,
     "metadata": {},
     "output_type": "execute_result"
    }
   ],
   "source": [
    "sys.Gd(2) "
   ]
  },
  {
   "cell_type": "code",
   "execution_count": 9,
   "metadata": {
    "collapsed": false
   },
   "outputs": [
    {
     "data": {
      "text/plain": [
       "Matrix([\n",
       "[-3.0110723280011*exp(-41400.0*I)/(1 + 48600.0*I), 218.193646956602*(0.000181 - 345.0*I)*exp(-56100.0*I)/((1 + 36600.0*I)*(1 + 102900.0*I)), -0.774587446695936*exp(-40500.0*I)/(-848556899.0 + 39733.32*I)],\n",
       "[          -1.872*exp(-10350.0*I)/(1 + 59400.0*I),                8.0*(0.232 - 5580.0*I)*exp(-33900.0*I)/((1 + 34800.0*I)*(1 + 104400.0*I)),                -1.26*exp(-4860.0*I)/(-737122499.0 + 37086.9*I)],\n",
       "[2.00869593250299*exp(-5310.0*I)/(1 + 151800.0*I),                                       -1.95489157716809*exp(-12990.0*I)/(1 + 102600.0*I),             0.0134735073151149*exp(-40800.0*I)/(1 + 57000.0*I)]])"
      ]
     },
     "execution_count": 9,
     "metadata": {},
     "output_type": "execute_result"
    }
   ],
   "source": [
    "sys.Gp_sym.subs(s,1j*300)"
   ]
  },
  {
   "cell_type": "code",
   "execution_count": 8,
   "metadata": {
    "collapsed": false
   },
   "outputs": [
    {
     "data": {
      "text/plain": [
       "Matrix([\n",
       "[-3.0110723280011*exp(-138.0*s)/(162.0*s + 1), 218.193646956602*(-1.15*s + 0.000181)*exp(-187.0*s)/((122.0*s + 1)*(343.0*s + 1)), -0.774587446695936*exp(-135.0*s)/(9428.41*s**2 + 132.4444*s + 1)],\n",
       "[           -1.872*exp(-34.5*s)/(198.0*s + 1),                 8.0*(-18.6*s + 0.232)*exp(-113.0*s)/((116.0*s + 1)*(348.0*s + 1)),                -1.26*exp(-16.2*s)/(8190.25*s**2 + 123.623*s + 1)],\n",
       "[ 2.00869593250299*exp(-17.7*s)/(506.0*s + 1),                                      -1.95489157716809*exp(-43.3*s)/(342.0*s + 1),                   0.0134735073151149*exp(-136.0*s)/(190.0*s + 1)]])"
      ]
     },
     "execution_count": 8,
     "metadata": {},
     "output_type": "execute_result"
    }
   ],
   "source": []
  },
  {
   "cell_type": "code",
   "execution_count": 12,
   "metadata": {
    "collapsed": false
   },
   "outputs": [
    {
     "data": {
      "text/plain": [
       "matrix([[ 0.18,  0.  ,  0.  ],\n",
       "        [ 0.  ,  5.  ,  0.  ],\n",
       "        [ 0.  ,  0.  ,  0.22]])"
      ]
     },
     "execution_count": 12,
     "metadata": {},
     "output_type": "execute_result"
    }
   ],
   "source": [
    "sys.De"
   ]
  },
  {
   "cell_type": "code",
   "execution_count": 16,
   "metadata": {
    "collapsed": false
   },
   "outputs": [
    {
     "data": {
      "text/plain": [
       "matrix([[ 1.,  1.,  1.]])"
      ]
     },
     "execution_count": 16,
     "metadata": {},
     "output_type": "execute_result"
    }
   ],
   "source": [
    "np.array(sys.emax)*sys.De.I"
   ]
  },
  {
   "cell_type": "code",
   "execution_count": null,
   "metadata": {
    "collapsed": true
   },
   "outputs": [],
   "source": []
  }
 ],
 "metadata": {
  "kernelspec": {
   "display_name": "Python 3",
   "language": "python",
   "name": "python3"
  },
  "language_info": {
   "codemirror_mode": {
    "name": "ipython",
    "version": 3
   },
   "file_extension": ".py",
   "mimetype": "text/x-python",
   "name": "python",
   "nbconvert_exporter": "python",
   "pygments_lexer": "ipython3",
   "version": "3.4.3"
  }
 },
 "nbformat": 4,
 "nbformat_minor": 0
}
