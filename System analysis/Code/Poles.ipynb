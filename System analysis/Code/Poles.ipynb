{
 "cells": [
  {
   "cell_type": "code",
   "execution_count": 21,
   "metadata": {
    "collapsed": true
   },
   "outputs": [],
   "source": [
    "from Scaling import scaling,umax,dmax,emax\n",
    "import numpy as np\n",
    "import System\n",
    "import sympy as sp\n",
    "sp.init_printing()\n",
    "from System import system\n",
    "s = sp.Symbol('s')"
   ]
  },
  {
   "cell_type": "code",
   "execution_count": 22,
   "metadata": {
    "collapsed": false
   },
   "outputs": [],
   "source": [
    "sys = system()"
   ]
  },
  {
   "cell_type": "code",
   "execution_count": 27,
   "metadata": {
    "collapsed": false
   },
   "outputs": [],
   "source": [
    "Ce = sys.Gp_sym.det().together()"
   ]
  },
  {
   "cell_type": "markdown",
   "metadata": {},
   "source": [
    "As mentioned in skogestad, the poles and zeros of a square system are essentially the poles and zeros of the determinant, provided that no pole,zero cancelation occurs between any elements when forming the determinant. This is a crude description and does not reveal pole directions, but with the model obtained from curve fitting we can use this as a quick check for rhp poles and see that the system does not have any."
   ]
  },
  {
   "cell_type": "code",
   "execution_count": 28,
   "metadata": {
    "collapsed": false
   },
   "outputs": [],
   "source": [
    "poles = sp.solve(sp.denom(Ce),s)\n",
    "#zeros = sp.solve(sp.numer(Ce),s)"
   ]
  },
  {
   "cell_type": "markdown",
   "metadata": {},
   "source": [
    "using this to check for zeros would be pointless and time consuming as the model obtained from step testing has far too many zeros, more than is realistic. "
   ]
  },
  {
   "cell_type": "code",
   "execution_count": null,
   "metadata": {
    "collapsed": true
   },
   "outputs": [],
   "source": []
  }
 ],
 "metadata": {
  "kernelspec": {
   "display_name": "Python 3",
   "language": "python",
   "name": "python3"
  },
  "language_info": {
   "codemirror_mode": {
    "name": "ipython",
    "version": 3
   },
   "file_extension": ".py",
   "mimetype": "text/x-python",
   "name": "python",
   "nbconvert_exporter": "python",
   "pygments_lexer": "ipython3",
   "version": "3.6.0"
  }
 },
 "nbformat": 4,
 "nbformat_minor": 0
}
