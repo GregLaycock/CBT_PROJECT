{
 "cells": [
  {
   "cell_type": "code",
   "execution_count": 1,
   "metadata": {
    "collapsed": false
   },
   "outputs": [],
   "source": [
    "from Scaling import scaling,umax,dmax,emax\n",
    "import numpy as np\n",
    "import System\n",
    "import sympy as sp\n",
    "sp.init_printing(use_latex='mathjaxx')\n",
    "from System import system"
   ]
  },
  {
   "cell_type": "code",
   "execution_count": 2,
   "metadata": {
    "collapsed": false
   },
   "outputs": [],
   "source": [
    "sys = system()"
   ]
  },
  {
   "cell_type": "code",
   "execution_count": 45,
   "metadata": {
    "collapsed": false
   },
   "outputs": [
    {
     "data": {
      "text/plain": [
       "array([[ 1.01, -0.01,  0.01],\n",
       "       [-0.39,  0.39,  1.  ],\n",
       "       [ 0.38,  0.63, -0.01]])"
      ]
     },
     "execution_count": 45,
     "metadata": {},
     "output_type": "execute_result"
    }
   ],
   "source": [
    "sys.ssRGA"
   ]
  },
  {
   "cell_type": "markdown",
   "metadata": {},
   "source": [
    "above we see the steady state relative gain array (used in decentralized control). Values that are positive and close to 1 represent good pairings. Here we see that Ps1 should be paired with Cc_measured, Ps2 with tank level and Ps3 with temperature. This comes as no surprise given the nature of the system. What is surprising, however is how small the effect of cooling is on manipulating concentration. This system should be easily controlled with decentralized control in absence of disturbances, given that the RGA produces clear, optimal pairings. Ps2 can also be used to control temperature to an extent and Ps1 to control level."
   ]
  },
  {
   "cell_type": "code",
   "execution_count": 4,
   "metadata": {
    "collapsed": false
   },
   "outputs": [],
   "source": [
    "gpgains = np.matrix(sys.gainarrays[0])\n",
    "gdgains = sys.gainarrays[1]"
   ]
  },
  {
   "cell_type": "code",
   "execution_count": 5,
   "metadata": {
    "collapsed": false
   },
   "outputs": [],
   "source": [
    "rga = np.multiply(gpgains,gpgains.I.T)  # hadamard product (element wise mult)"
   ]
  },
  {
   "cell_type": "code",
   "execution_count": 6,
   "metadata": {
    "collapsed": false
   },
   "outputs": [
    {
     "data": {
      "text/plain": [
       "matrix([[ 1.01, -0.01,  0.01],\n",
       "        [-0.39,  0.39,  1.  ],\n",
       "        [ 0.38,  0.63, -0.01]])"
      ]
     },
     "execution_count": 6,
     "metadata": {},
     "output_type": "execute_result"
    }
   ],
   "source": [
    "rga"
   ]
  },
  {
   "cell_type": "code",
   "execution_count": 7,
   "metadata": {
    "collapsed": false
   },
   "outputs": [
    {
     "data": {
      "text/plain": [
       "matrix([[-3.01,  0.04, -0.77],\n",
       "        [-1.87,  1.86, -1.26],\n",
       "        [ 2.01, -1.95,  0.01]])"
      ]
     },
     "execution_count": 7,
     "metadata": {},
     "output_type": "execute_result"
    }
   ],
   "source": [
    "gpgains"
   ]
  },
  {
   "cell_type": "code",
   "execution_count": 8,
   "metadata": {
    "collapsed": false
   },
   "outputs": [
    {
     "data": {
      "text/plain": [
       "array([[ 0.78,  0.48,  1.06],\n",
       "       [ 0.52,  0.96,  0.69],\n",
       "       [-0.01, -0.01,  0.17]])"
      ]
     },
     "execution_count": 8,
     "metadata": {},
     "output_type": "execute_result"
    }
   ],
   "source": [
    "gdgains"
   ]
  },
  {
   "cell_type": "markdown",
   "metadata": {
    "collapsed": false
   },
   "source": [
    "Frequency RGA analysis\n",
    "3x3 system so 3x2x1 = 6 possible pairings\n"
   ]
  },
  {
   "cell_type": "code",
   "execution_count": 9,
   "metadata": {
    "collapsed": true
   },
   "outputs": [],
   "source": [
    "p1 = np.matrix([[1,0,0],\n",
    "                [0,1,0],\n",
    "                [0,0,1]])\n",
    "\n",
    "p2 = np.matrix([[0,1,0],\n",
    "                [1,0,0],\n",
    "                [0,0,1]])\n",
    "\n",
    "p3 = np.matrix([[0,0,1],\n",
    "                [1,0,0],\n",
    "                [0,1,0]])\n",
    "\n",
    "p4 = np.matrix([[1,0,0],\n",
    "                [0,0,1],\n",
    "                [0,1,0]])\n",
    "\n",
    "p5 = np.matrix([[0,0,1],\n",
    "                [0,1,0],\n",
    "                [1,0,0]])\n",
    "\n",
    "p6 = np.matrix([[0,1,0],\n",
    "                [0,0,1],\n",
    "                [1,0,0]])\n",
    "\n",
    "pairs = [p1,p2,p3,p4,p5,p6]\n",
    "\n",
    "\n",
    "g = np.matrix([[5,4],\n",
    "               [3,2]])\n"
   ]
  },
  {
   "cell_type": "code",
   "execution_count": 17,
   "metadata": {
    "collapsed": false
   },
   "outputs": [],
   "source": [
    "def rganum(w,pair):\n",
    "    return np.sum(sys.fRGA(w) - pair)"
   ]
  },
  {
   "cell_type": "code",
   "execution_count": 35,
   "metadata": {
    "collapsed": false
   },
   "outputs": [],
   "source": [
    "res = []\n",
    "w = np.linspace(0,2000,2000)\n",
    "count = 0\n",
    "for pair in pairs:\n",
    "    res.append([])\n",
    "    for i in w:\n",
    "        num = rganum(i,pair)\n",
    "        res[count].append(num)\n",
    "    count += 1"
   ]
  },
  {
   "cell_type": "code",
   "execution_count": 44,
   "metadata": {
    "collapsed": false
   },
   "outputs": [],
   "source": [
    "from matplotlib import pyplot as plot\n",
    "plot.figure()\n",
    "for i in res:\n",
    "    plot.plot(w,np.array(i).real)\n",
    "plot.show()"
   ]
  },
  {
   "cell_type": "code",
   "execution_count": null,
   "metadata": {
    "collapsed": true
   },
   "outputs": [],
   "source": []
  }
 ],
 "metadata": {
  "kernelspec": {
   "display_name": "Python 3",
   "language": "python",
   "name": "python3"
  },
  "language_info": {
   "codemirror_mode": {
    "name": "ipython",
    "version": 3
   },
   "file_extension": ".py",
   "mimetype": "text/x-python",
   "name": "python",
   "nbconvert_exporter": "python",
   "pygments_lexer": "ipython3",
   "version": "3.4.3"
  }
 },
 "nbformat": 4,
 "nbformat_minor": 2
}
