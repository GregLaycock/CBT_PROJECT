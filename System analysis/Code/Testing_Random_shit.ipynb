{
 "cells": [
  {
   "cell_type": "code",
   "execution_count": 5,
   "metadata": {
    "collapsed": false
   },
   "outputs": [],
   "source": [
    "from Scaling import scaling,umax,dmax,emax\n",
    "import numpy as np\n",
    "import System\n",
    "import sympy as sp\n",
    "sp.init_printing()"
   ]
  },
  {
   "cell_type": "code",
   "execution_count": 6,
   "metadata": {
    "collapsed": false
   },
   "outputs": [],
   "source": [
    "sys = System.system()"
   ]
  },
  {
   "cell_type": "code",
   "execution_count": 7,
   "metadata": {
    "collapsed": false
   },
   "outputs": [
    {
     "data": {
      "text/latex": [
       "$$\\left[\\begin{matrix}- \\frac{3.0110723280011 e^{- 138.0 s}}{162.0 s + 1} & \\frac{218.193646956602 \\left(- 1.15 s + 0.000181\\right) e^{- 187.0 s}}{\\left(122.0 s + 1\\right) \\left(343.0 s + 1\\right)} & - \\frac{0.619669957356749 e^{- 135.0 s}}{9428.41 s^{2} + 132.4444 s + 1}\\\\- \\frac{1.872 e^{- 34.5 s}}{198.0 s + 1} & \\frac{8.0 \\left(- 18.6 s + 0.232\\right) e^{- 113.0 s}}{\\left(116.0 s + 1\\right) \\left(348.0 s + 1\\right)} & - \\frac{1.008 e^{- 16.2 s}}{8190.25 s^{2} + 123.623 s + 1}\\\\\\frac{2.00869593250299 e^{- 17.7 s}}{506.0 s + 1} & - \\frac{1.95489157716809 e^{- 43.3 s}}{342.0 s + 1} & \\frac{0.0107788058520919 e^{- 136.0 s}}{190.0 s + 1}\\end{matrix}\\right]$$"
      ],
      "text/plain": [
       "⎡                  -138.0⋅s                                          -187.0⋅s \n",
       "⎢-3.0110723280011⋅ℯ           218.193646956602⋅(-1.15⋅s + 0.000181)⋅ℯ         \n",
       "⎢───────────────────────────  ─────────────────────────────────────────────── \n",
       "⎢        162.0⋅s + 1                    (122.0⋅s + 1)⋅(343.0⋅s + 1)           \n",
       "⎢                                                                             \n",
       "⎢                                                                             \n",
       "⎢             -34.5⋅s                                        -113.0⋅s         \n",
       "⎢     -1.872⋅ℯ                        8.0⋅(-18.6⋅s + 0.232)⋅ℯ                 \n",
       "⎢     ────────────────                ───────────────────────────────         \n",
       "⎢       198.0⋅s + 1                     (116.0⋅s + 1)⋅(348.0⋅s + 1)           \n",
       "⎢                                                                             \n",
       "⎢                                                                             \n",
       "⎢                   -17.7⋅s                                -43.3⋅s            \n",
       "⎢ 2.00869593250299⋅ℯ                    -1.95489157716809⋅ℯ                   \n",
       "⎢ ─────────────────────────             ───────────────────────────           \n",
       "⎣        506.0⋅s + 1                            342.0⋅s + 1                   \n",
       "\n",
       "                     -135.0⋅s ⎤\n",
       " -0.619669957356749⋅ℯ         ⎥\n",
       " ─────────────────────────────⎥\n",
       "           2                  ⎥\n",
       "  9428.41⋅s  + 132.4444⋅s + 1 ⎥\n",
       "                              ⎥\n",
       "               -16.2⋅s        ⎥\n",
       "       -1.008⋅ℯ               ⎥\n",
       "  ──────────────────────────  ⎥\n",
       "           2                  ⎥\n",
       "  8190.25⋅s  + 123.623⋅s + 1  ⎥\n",
       "                              ⎥\n",
       "                     -136.0⋅s ⎥\n",
       " 0.0107788058520919⋅ℯ         ⎥\n",
       " ──────────────────────────── ⎥\n",
       "         190.0⋅s + 1          ⎦"
      ]
     },
     "execution_count": 7,
     "metadata": {},
     "output_type": "execute_result"
    }
   ],
   "source": [
    "sys.Gp_sym"
   ]
  },
  {
   "cell_type": "code",
   "execution_count": 8,
   "metadata": {
    "collapsed": false
   },
   "outputs": [
    {
     "data": {
      "text/latex": [
       "$$\\left[\\begin{matrix}- \\frac{3.0110723280011 e^{- 138.0 s}}{162.0 s + 1} & \\frac{218.193646956602 \\left(- 1.15 s + 0.000181\\right) e^{- 187.0 s}}{\\left(122.0 s + 1\\right) \\left(343.0 s + 1\\right)} & - \\frac{0.619669957356749 e^{- 135.0 s}}{9428.41 s^{2} + 132.4444 s + 1}\\\\- \\frac{1.872 e^{- 34.5 s}}{198.0 s + 1} & \\frac{8.0 \\left(- 18.6 s + 0.232\\right) e^{- 113.0 s}}{\\left(116.0 s + 1\\right) \\left(348.0 s + 1\\right)} & - \\frac{1.008 e^{- 16.2 s}}{8190.25 s^{2} + 123.623 s + 1}\\\\\\frac{2.00869593250299 e^{- 17.7 s}}{506.0 s + 1} & - \\frac{1.95489157716809 e^{- 43.3 s}}{342.0 s + 1} & \\frac{0.0107788058520919 e^{- 136.0 s}}{190.0 s + 1}\\end{matrix}\\right]$$"
      ],
      "text/plain": [
       "⎡                  -138.0⋅s                                          -187.0⋅s \n",
       "⎢-3.0110723280011⋅ℯ           218.193646956602⋅(-1.15⋅s + 0.000181)⋅ℯ         \n",
       "⎢───────────────────────────  ─────────────────────────────────────────────── \n",
       "⎢        162.0⋅s + 1                    (122.0⋅s + 1)⋅(343.0⋅s + 1)           \n",
       "⎢                                                                             \n",
       "⎢                                                                             \n",
       "⎢             -34.5⋅s                                        -113.0⋅s         \n",
       "⎢     -1.872⋅ℯ                        8.0⋅(-18.6⋅s + 0.232)⋅ℯ                 \n",
       "⎢     ────────────────                ───────────────────────────────         \n",
       "⎢       198.0⋅s + 1                     (116.0⋅s + 1)⋅(348.0⋅s + 1)           \n",
       "⎢                                                                             \n",
       "⎢                                                                             \n",
       "⎢                   -17.7⋅s                                -43.3⋅s            \n",
       "⎢ 2.00869593250299⋅ℯ                    -1.95489157716809⋅ℯ                   \n",
       "⎢ ─────────────────────────             ───────────────────────────           \n",
       "⎣        506.0⋅s + 1                            342.0⋅s + 1                   \n",
       "\n",
       "                     -135.0⋅s ⎤\n",
       " -0.619669957356749⋅ℯ         ⎥\n",
       " ─────────────────────────────⎥\n",
       "           2                  ⎥\n",
       "  9428.41⋅s  + 132.4444⋅s + 1 ⎥\n",
       "                              ⎥\n",
       "               -16.2⋅s        ⎥\n",
       "       -1.008⋅ℯ               ⎥\n",
       "  ──────────────────────────  ⎥\n",
       "           2                  ⎥\n",
       "  8190.25⋅s  + 123.623⋅s + 1  ⎥\n",
       "                              ⎥\n",
       "                     -136.0⋅s ⎥\n",
       " 0.0107788058520919⋅ℯ         ⎥\n",
       " ──────────────────────────── ⎥\n",
       "         190.0⋅s + 1          ⎦"
      ]
     },
     "execution_count": 8,
     "metadata": {},
     "output_type": "execute_result"
    }
   ],
   "source": [
    "sys.Gp_sym"
   ]
  },
  {
   "cell_type": "code",
   "execution_count": null,
   "metadata": {
    "collapsed": false
   },
   "outputs": [],
   "source": []
  },
  {
   "cell_type": "code",
   "execution_count": null,
   "metadata": {
    "collapsed": true
   },
   "outputs": [],
   "source": []
  }
 ],
 "metadata": {
  "kernelspec": {
   "display_name": "Python 3",
   "language": "python",
   "name": "python3"
  },
  "language_info": {
   "codemirror_mode": {
    "name": "ipython",
    "version": 3
   },
   "file_extension": ".py",
   "mimetype": "text/x-python",
   "name": "python",
   "nbconvert_exporter": "python",
   "pygments_lexer": "ipython3",
   "version": "3.6.0"
  }
 },
 "nbformat": 4,
 "nbformat_minor": 0
}
