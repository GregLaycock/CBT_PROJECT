{
 "cells": [
  {
   "cell_type": "code",
   "execution_count": null,
   "metadata": {
    "collapsed": false
   },
   "outputs": [],
   "source": [
    "import numpy as np\n",
    "from System import system"
   ]
  },
  {
   "cell_type": "code",
   "execution_count": null,
   "metadata": {
    "collapsed": true
   },
   "outputs": [],
   "source": [
    "sys = system()"
   ]
  },
  {
   "cell_type": "code",
   "execution_count": null,
   "metadata": {
    "collapsed": false
   },
   "outputs": [],
   "source": [
    "# frequency response"
   ]
  },
  {
   "cell_type": "code",
   "execution_count": 93,
   "metadata": {
    "collapsed": true
   },
   "outputs": [],
   "source": [
    "w = np.logspace(-4,0,1000)\n",
    "line =[]\n",
    "for i in w:\n",
    "    yval = 1\n",
    "    line.append(yval)"
   ]
  },
  {
   "cell_type": "code",
   "execution_count": 101,
   "metadata": {
    "collapsed": false
   },
   "outputs": [],
   "source": [
    "svs = []\n",
    "for i in w:\n",
    "    gjw = sys.Gp(1j*i)\n",
    "    sv = np.linalg.svd(gjw)[1]\n",
    "    svs.append(sv)\n",
    "svs = np.array(svs)\n",
    "from matplotlib import pyplot as plot\n",
    "plot.figure()\n",
    "plot.loglog(w,svs[:,0],label = r'$\\sigma_0$')\n",
    "plot.loglog(w,svs[:,1],label = r'$\\sigma_1$')\n",
    "plot.loglog(w,svs[:,2],label = r'$\\sigma_2$')\n",
    "plot.loglog(w,line, 'k')\n",
    "plot.grid(True,which= \"both\")\n",
    "plot.legend()\n",
    "plot.axvline(x = 0.0222222,color = 'k')\n",
    "plot.show()    "
   ]
  },
  {
   "cell_type": "code",
   "execution_count": 102,
   "metadata": {
    "collapsed": false
   },
   "outputs": [
    {
     "data": {
      "text/plain": [
       "' wc based on sigma max = 0.0222 rad/s'"
      ]
     },
     "execution_count": 102,
     "metadata": {},
     "output_type": "execute_result"
    }
   ],
   "source": [
    "\" wc based on sigma max = 0.0222 rad/s\""
   ]
  },
  {
   "cell_type": "code",
   "execution_count": null,
   "metadata": {
    "collapsed": true
   },
   "outputs": [],
   "source": []
  }
 ],
 "metadata": {
  "kernelspec": {
   "display_name": "Python 3",
   "language": "python",
   "name": "python3"
  },
  "language_info": {
   "codemirror_mode": {
    "name": "ipython",
    "version": 3
   },
   "file_extension": ".py",
   "mimetype": "text/x-python",
   "name": "python",
   "nbconvert_exporter": "python",
   "pygments_lexer": "ipython3",
   "version": "3.4.3"
  }
 },
 "nbformat": 4,
 "nbformat_minor": 0
}
