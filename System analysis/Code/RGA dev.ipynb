{
 "cells": [
  {
   "cell_type": "code",
   "execution_count": 14,
   "metadata": {
    "collapsed": false
   },
   "outputs": [],
   "source": [
    "from Scaling import scaling,umax,dmax,emax\n",
    "import numpy as np\n",
    "import System\n",
    "import sympy as sp\n",
    "# sp.init_printing()\n",
    "from System import system"
   ]
  },
  {
   "cell_type": "code",
   "execution_count": 15,
   "metadata": {
    "collapsed": false
   },
   "outputs": [],
   "source": [
    "#Gp_sym and Gd_sym are already scaled. Everything we do from here is on scaled tf.\n",
    "sys = system()\n",
    "Gp_sym = sys.Gp_sym\n",
    "Gd_sym = sys.Gd_sym\n",
    "s = sp.Symbol('s')"
   ]
  },
  {
   "cell_type": "code",
   "execution_count": 16,
   "metadata": {
    "collapsed": false
   },
   "outputs": [],
   "source": [
    "Gp_ssgain = Gp_sym.subs(s,0)\n",
    "Gd_ssgain = Gd_sym.subs(s,0)"
   ]
  },
  {
   "cell_type": "code",
   "execution_count": 18,
   "metadata": {
    "collapsed": false
   },
   "outputs": [
    {
     "data": {
      "text/latex": [
       "$$\\left[\\begin{matrix}- \\frac{3.0110723280011 e^{- 138.0 s}}{162.0 s + 1} & - \\frac{1.872 e^{- 34.5 s}}{198.0 s + 1} & \\frac{2.00869593250299 e^{- 17.7 s}}{506.0 s + 1}\\\\\\frac{218.193646956602 \\left(- 1.15 s + 0.000181\\right) e^{- 187.0 s}}{\\left(122.0 s + 1\\right) \\left(343.0 s + 1\\right)} & \\frac{8.0 \\left(- 18.6 s + 0.232\\right) e^{- 113.0 s}}{\\left(116.0 s + 1\\right) \\left(348.0 s + 1\\right)} & - \\frac{1.95489157716809 e^{- 43.3 s}}{342.0 s + 1}\\\\- \\frac{0.619669957356749 e^{- 135.0 s}}{9428.41 s^{2} + 132.4444 s + 1} & - \\frac{1.008 e^{- 16.2 s}}{8190.25 s^{2} + 123.623 s + 1} & \\frac{0.0107788058520919 e^{- 136.0 s}}{190.0 s + 1}\\end{matrix}\\right]$$"
      ],
      "text/plain": [
       "⎡                            -138.0⋅s                            -34.5⋅s      \n",
       "⎢          -3.0110723280011⋅ℯ                            -1.872⋅ℯ             \n",
       "⎢          ───────────────────────────                   ────────────────     \n",
       "⎢                  162.0⋅s + 1                             198.0⋅s + 1        \n",
       "⎢                                                                             \n",
       "⎢                                       -187.0⋅s                         -113.\n",
       "⎢218.193646956602⋅(-1.15⋅s + 0.000181)⋅ℯ          8.0⋅(-18.6⋅s + 0.232)⋅ℯ     \n",
       "⎢───────────────────────────────────────────────  ────────────────────────────\n",
       "⎢          (122.0⋅s + 1)⋅(343.0⋅s + 1)              (116.0⋅s + 1)⋅(348.0⋅s + 1\n",
       "⎢                                                                             \n",
       "⎢                             -135.0⋅s                           -16.2⋅s      \n",
       "⎢         -0.619669957356749⋅ℯ                           -1.008⋅ℯ             \n",
       "⎢         ─────────────────────────────             ──────────────────────────\n",
       "⎢                   2                                        2                \n",
       "⎣          9428.41⋅s  + 132.4444⋅s + 1              8190.25⋅s  + 123.623⋅s + 1\n",
       "\n",
       "                        -17.7⋅s  ⎤\n",
       "      2.00869593250299⋅ℯ         ⎥\n",
       "      ─────────────────────────  ⎥\n",
       "             506.0⋅s + 1         ⎥\n",
       "                                 ⎥\n",
       "0⋅s                     -43.3⋅s  ⎥\n",
       "     -1.95489157716809⋅ℯ         ⎥\n",
       "───  ─────────────────────────── ⎥\n",
       ")            342.0⋅s + 1         ⎥\n",
       "                                 ⎥\n",
       "                         -136.0⋅s⎥\n",
       "     0.0107788058520919⋅ℯ        ⎥\n",
       "     ────────────────────────────⎥\n",
       "             190.0⋅s + 1         ⎥\n",
       "                                 ⎦"
      ]
     },
     "execution_count": 18,
     "metadata": {},
     "output_type": "execute_result"
    }
   ],
   "source": [
    "sys.Gp_sym.T"
   ]
  },
  {
   "cell_type": "code",
   "execution_count": 11,
   "metadata": {
    "collapsed": true
   },
   "outputs": [],
   "source": [
    "# RGA uses the schur (or hadamard) product which is elementwise multiplication. No need to RGA for\n",
    "#disturbance since you dont control disturbances"
   ]
  },
  {
   "cell_type": "code",
   "execution_count": null,
   "metadata": {
    "collapsed": true
   },
   "outputs": [],
   "source": [
    "R"
   ]
  }
 ],
 "metadata": {
  "kernelspec": {
   "display_name": "Python 3",
   "language": "python",
   "name": "python3"
  },
  "language_info": {
   "codemirror_mode": {
    "name": "ipython",
    "version": 3
   },
   "file_extension": ".py",
   "mimetype": "text/x-python",
   "name": "python",
   "nbconvert_exporter": "python",
   "pygments_lexer": "ipython3",
   "version": "3.6.0"
  }
 },
 "nbformat": 4,
 "nbformat_minor": 2
}
