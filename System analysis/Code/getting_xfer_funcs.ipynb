{
 "cells": [
  {
   "cell_type": "code",
   "execution_count": 110,
   "metadata": {
    "collapsed": false
   },
   "outputs": [],
   "source": [
    "import numpy as np\n",
    "from matplotlib import pyplot as plot\n",
    "from scipy.optimize import minimize as min\n",
    "from scipy.signal import lti\n",
    "import sympy as sp\n",
    "import math\n",
    "np.set_printoptions(precision=2)\n",
    "from numpy import exp\n",
    "from steady_state_values import steady_state"
   ]
  },
  {
   "cell_type": "code",
   "execution_count": 127,
   "metadata": {
    "collapsed": false
   },
   "outputs": [],
   "source": [
    "# path = 'C:/Users/Greg/Desktop/Gregs Workshop/CBT/Project/Code/Simulation and step testing/CBT-project-CSTR-/System simulation/Steptesting and modelling/Code/fit_results.csv'\n",
    "filename = 'Fit_results.csv'\n",
    "import csv\n",
    "with open(filename) as p:\n",
    "    #reads csv into a list of lists\n",
    "    my_list = [rec for rec in csv.reader(p, delimiter=',')]\n",
    "\n",
    "all_params = [[float(i) for i in my_list[j]] for j,lis in enumerate(my_list)]\n",
    "\n",
    "def round2SignifFigs(vals,n):\n",
    "    import numpy as np\n",
    "    np.set_printoptions(precision=2)\n",
    "    \"\"\"\n",
    "    (list, int) -> numpy array\n",
    "    (numpy array, int) -> numpy array\n",
    "\n",
    "    In: a list/array of values\n",
    "    Out: array of values rounded to n significant figures\n",
    "\n",
    "    Does not accept: inf, nan, complex\n",
    "\n",
    "    >>> m = [0.0, -1.2366e22, 1.2544444e-15, 0.001222]\n",
    "    >>> round2SignifFigs(m,2)\n",
    "    array([  0.00e+00,  -1.24e+22,   1.25e-15,   1.22e-03])\n",
    "    \"\"\"\n",
    "    if np.all(np.isfinite(vals)) and np.all(np.isreal((vals))):\n",
    "        eset = np.seterr(all='ignore')\n",
    "        mags = 10.0**np.floor(np.log10(np.abs(vals)))  # omag's\n",
    "        vals = np.around(vals/mags,n)*mags             # round(val/omag)*omag\n",
    "        np.seterr(**eset)\n",
    "        vals[np.where(np.isnan(vals))] = 0.0           # 0.0 -> nan -> 0.0\n",
    "    else:\n",
    "        raise IOError('Input must be real and finite')\n",
    "    return vals\n",
    "\n",
    "all_params = [round2SignifFigs(i,2) for i in all_params]\n",
    "\n"
   ]
  },
  {
   "cell_type": "code",
   "execution_count": 112,
   "metadata": {
    "collapsed": false
   },
   "outputs": [],
   "source": [
    "def get_xfer(params,type):\n",
    "    s = sp.Symbol('s')\n",
    "    e = sp.Symbol('e')\n",
    "    \n",
    "    if type == 'FOPTD':\n",
    "        k,tau,theta = params\n",
    "        \n",
    "        return k*(sp.exp(-theta*s))/(tau*s+1)\n",
    "    elif type == 'SOPTD':\n",
    "        k,tau,zeta,theta = params\n",
    "        return k*sp.exp(-theta*s)/(tau**2 *s**2 + 2*zeta*tau*s + 1)\n",
    "    \n",
    "    elif type == 'SOZPTD':\n",
    "        c1,c2,tau1,tau2,theta = params\n",
    "        return (c1*s + c2)*sp.exp(-theta*s)/((tau1*s + 1)*(tau2*s+1))"
   ]
  },
  {
   "cell_type": "code",
   "execution_count": 113,
   "metadata": {
    "collapsed": false
   },
   "outputs": [],
   "source": [
    "Mvs = ['Ps1','Ps2','Ps3']\n",
    "outputs = ['Cc_measured','T','H']\n",
    "Dvs = ['Cao','Tbo','F1']"
   ]
  },
  {
   "cell_type": "code",
   "execution_count": 114,
   "metadata": {
    "collapsed": true
   },
   "outputs": [],
   "source": [
    "stepped_vars = ['Ps1','Ps2','Ps3','Cao','Tbo','F1']\n",
    "outputs = ['Cc_measured', 'T', 'H']\n",
    "names = []\n",
    "for i, input in enumerate(stepped_vars):\n",
    "    for j, output in enumerate(outputs):\n",
    "        names.append(str(input) + str(output))\n",
    "\n",
    "def get_type(name):                                                                  # based on intuition after seeing curves\n",
    "    if name == 'F1T' or name == 'Ps3T' or name == 'Ps3Cc_measured':\n",
    "        fit_type = 'SOPTD'\n",
    "\n",
    "    elif name == 'Ps2T' or name == 'Ps2Cc_measured' or name == 'F1Cc_measured':\n",
    "        fit_type = 'SOZPTD'\n",
    "\n",
    "    else:\n",
    "        fit_type = 'FOPTD'\n",
    "\n",
    "    return fit_type"
   ]
  },
  {
   "cell_type": "code",
   "execution_count": 115,
   "metadata": {
    "collapsed": false,
    "scrolled": true
   },
   "outputs": [],
   "source": [
    "types = [get_type(name) for name in names]\n",
    "types[15] = 'FOPTD'\n",
    "funcs = [get_xfer(count,types[i]) for i,count in enumerate(all_params)]\n",
    "all_funcs = dict(zip(names,funcs))"
   ]
  },
  {
   "cell_type": "markdown",
   "metadata": {},
   "source": [
    "Now we just need to put the xfer funcs in the correct matrix order. There's definitely a smarter way to do this but I'm just going to hard code it."
   ]
  },
  {
   "cell_type": "code",
   "execution_count": 123,
   "metadata": {
    "collapsed": false
   },
   "outputs": [],
   "source": [
    "# process\n",
    "ps1cc = all_funcs['Ps1Cc_measured']\n",
    "ps1t = all_funcs['Ps1T']\n",
    "ps1h = all_funcs['Ps1H']\n",
    "ps2cc = all_funcs['Ps2Cc_measured']\n",
    "ps2t = all_funcs['Ps2T']\n",
    "ps2h = all_funcs['Ps2H']\n",
    "ps3cc = all_funcs['Ps3Cc_measured']\n",
    "ps3t = all_funcs['Ps3T']\n",
    "ps3h = all_funcs['Ps3H']\n",
    "\n",
    "Gp_sym = sp.Matrix([[ps1cc,ps2cc,ps3cc],\n",
    "                [ps1t,ps2t,ps3t],\n",
    "                [ps1h,ps2h,ps3h]])\n",
    "\n",
    "# Disturbance\n",
    "caocc = all_funcs['CaoCc_measured']\n",
    "caot = all_funcs['CaoT']\n",
    "caoh = all_funcs['CaoH']\n",
    "tbocc = all_funcs['TboCc_measured']\n",
    "tbot = all_funcs['TboT']\n",
    "tboh = all_funcs['TboH']\n",
    "f1cc = all_funcs['F1Cc_measured']\n",
    "f1t = all_funcs['F1T']\n",
    "f1h = all_funcs['F1H']\n",
    "\n",
    "Gd_sym = sp.Matrix([[caocc,tbocc,f1cc],\n",
    "                  [caot,tbot,f1t],\n",
    "                  [caoh,tboh,f1h]])\n",
    " \n",
    "# hard coded transfer functions (gonna have to do this)\n",
    "\n",
    "def g11(s):\n",
    "    return \n",
    "\n",
    "def g12(s):\n",
    "    return \n",
    "\n",
    "def g13(s):\n",
    "    return \n",
    "\n",
    "def g21(s):\n",
    "    return \n",
    "\n",
    "def g22(s):\n",
    "    return \n",
    "\n",
    "def g23(s):\n",
    "    return \n",
    "\n",
    "def g31(s):\n",
    "    return \n",
    "\n",
    "def g32(s):\n",
    "    return \n",
    "\n",
    "def g33(s):\n",
    "    return \n",
    "\n",
    "def gd11(s):\n",
    "    return \n",
    "\n",
    "def gd12(s):\n",
    "    return \n",
    "\n",
    "def gd13(s):\n",
    "    return \n",
    "\n",
    "def gd21(s):\n",
    "    return \n",
    "\n",
    "def gd22(s):\n",
    "    return \n",
    "\n",
    "def gd23(s):\n",
    "    return\n",
    "\n",
    "def gd31(s):\n",
    "    return \n",
    "\n",
    "def gd32(s):\n",
    "    return \n",
    "\n",
    "def g33(s):\n",
    "    return \n",
    "\n",
    "\n",
    "\n",
    "def Gp(s):\n",
    "    return np.matrix([[g11(s),g12(s),g13(s)],\n",
    "                      [g21(s),g22(s),g23(s)],\n",
    "                      [g31(s),g32(s),g33(s)]])\n",
    "                     \n",
    "def Gd(s):\n",
    "    return np.matrix([[gd11(s),gd12(s),gd13(s)],\n",
    "                      [gd21(s),gd22(s),gd23(s)],\n",
    "                      [gd31(s),gd32(s),gd33(s)]])\n",
    "\n",
    "def get_sym_freq_resp(tf):\n",
    "    w = sp.Symbol('omega')\n",
    "    new = tf.subs(s,1j*w)\n",
    "    return new\n",
    "\n"
   ]
  },
  {
   "cell_type": "code",
   "execution_count": 124,
   "metadata": {
    "collapsed": false
   },
   "outputs": [
    {
     "data": {
      "text/latex": [
       "$$\\left ( \\left[\\begin{matrix}- \\frac{0.0138 e^{- 138.0 s}}{162.0 s + 1} & \\frac{\\left(- 1.15 s + 0.000181\\right) e^{- 187.0 s}}{\\left(122.0 s + 1\\right) \\left(343.0 s + 1\\right)} & - \\frac{0.00284 e^{- 135.0 s}}{9428.41 s^{2} + 132.4444 s + 1}\\\\- \\frac{0.234 e^{- 34.5 s}}{198.0 s + 1} & \\frac{\\left(- 18.6 s + 0.232\\right) e^{- 113.0 s}}{\\left(116.0 s + 1\\right) \\left(348.0 s + 1\\right)} & - \\frac{0.126 e^{- 16.2 s}}{8190.25 s^{2} + 123.623 s + 1}\\\\\\frac{0.0112 e^{- 17.7 s}}{506.0 s + 1} & - \\frac{0.0109 e^{- 43.3 s}}{342.0 s + 1} & \\frac{6.01 \\cdot 10^{-5} e^{- 136.0 s}}{190.0 s + 1}\\end{matrix}\\right], \\quad \\left[\\begin{matrix}\\frac{0.384 e^{- 116.0 s}}{191.0 s + 1} & \\frac{0.0175 e^{- 136.0 s}}{73.4 s + 1} & \\frac{2640.0 e^{- 132.0 s}}{170.0 s + 1}\\\\\\frac{6.96 e^{- 42.5 s}}{82.5 s + 1} & \\frac{0.962 e^{- 22.5 s}}{74.4 s + 1} & \\frac{47300.0 e^{- 9.03 s}}{4502.41 s^{2} + 88.1694 s + 1}\\\\- \\frac{0.00839 e^{- 3.57 s}}{432.0 s + 1} & - \\frac{0.000376 e^{- 0.264 s}}{290.0 s + 1} & \\frac{520.0 e^{- 0.353 s}}{478.0 s + 1}\\end{matrix}\\right]\\right )$$"
      ],
      "text/plain": [
       "⎛⎡         -138.0⋅s                         -187.0⋅s                -135.0⋅s  \n",
       "⎜⎢-0.0138⋅ℯ           (-1.15⋅s + 0.000181)⋅ℯ              -0.00284⋅ℯ          \n",
       "⎜⎢──────────────────  ──────────────────────────────  ────────────────────────\n",
       "⎜⎢   162.0⋅s + 1       (122.0⋅s + 1)⋅(343.0⋅s + 1)             2              \n",
       "⎜⎢                                                    9428.41⋅s  + 132.4444⋅s \n",
       "⎜⎢                                                                            \n",
       "⎜⎢         -34.5⋅s                        -113.0⋅s                 -16.2⋅s    \n",
       "⎜⎢ -0.234⋅ℯ            (-18.6⋅s + 0.232)⋅ℯ                 -0.126⋅ℯ           \n",
       "⎜⎢ ────────────────    ───────────────────────────    ────────────────────────\n",
       "⎜⎢   198.0⋅s + 1       (116.0⋅s + 1)⋅(348.0⋅s + 1)             2              \n",
       "⎜⎢                                                    8190.25⋅s  + 123.623⋅s +\n",
       "⎜⎢                                                                            \n",
       "⎜⎢         -17.7⋅s                   -43.3⋅s                        -136.0⋅s  \n",
       "⎜⎢ 0.0112⋅ℯ                 -0.0109⋅ℯ                      6.01e-5⋅ℯ          \n",
       "⎜⎢ ───────────────          ─────────────────              ─────────────────  \n",
       "⎝⎣   506.0⋅s + 1               342.0⋅s + 1                    190.0⋅s + 1     \n",
       "\n",
       "   ⎤  ⎡        -116.0⋅s              -136.0⋅s                 -132.0⋅s     ⎤⎞\n",
       "   ⎥  ⎢ 0.384⋅ℯ              0.0175⋅ℯ                 2640.0⋅ℯ             ⎥⎟\n",
       "───⎥, ⎢ ───────────────      ────────────────         ────────────────     ⎥⎟\n",
       "   ⎥  ⎢   191.0⋅s + 1           73.4⋅s + 1              170.0⋅s + 1        ⎥⎟\n",
       "+ 1⎥  ⎢                                                                    ⎥⎟\n",
       "   ⎥  ⎢        -42.5⋅s               -22.5⋅s                   -9.03⋅s     ⎥⎟\n",
       "   ⎥  ⎢  6.96⋅ℯ               0.962⋅ℯ                 47300.0⋅ℯ            ⎥⎟\n",
       "   ⎥  ⎢  ─────────────        ──────────────     ──────────────────────────⎥⎟\n",
       "── ⎥  ⎢    82.5⋅s + 1           74.4⋅s + 1                2                ⎥⎟\n",
       "   ⎥  ⎢                                          4502.41⋅s  + 88.1694⋅s + 1⎥⎟\n",
       " 1 ⎥  ⎢                                                                    ⎥⎟\n",
       "   ⎥  ⎢          -3.57⋅s              -0.264⋅s               -0.353⋅s      ⎥⎟\n",
       "   ⎥  ⎢-0.00839⋅ℯ          -0.000376⋅ℯ                520.0⋅ℯ              ⎥⎟\n",
       "   ⎥  ⎢──────────────────  ────────────────────       ───────────────      ⎥⎟\n",
       "   ⎥  ⎣   432.0⋅s + 1          290.0⋅s + 1              478.0⋅s + 1        ⎦⎟\n",
       "   ⎦                                                                        ⎠"
      ]
     },
     "execution_count": 124,
     "metadata": {},
     "output_type": "execute_result"
    }
   ],
   "source": [
    "sp.init_printing(use_latex='mathjax')\n",
    "Gp_sym,Gd_sym"
   ]
  },
  {
   "cell_type": "code",
   "execution_count": 118,
   "metadata": {
    "collapsed": true
   },
   "outputs": [],
   "source": [
    "def freq_resp(tf_func,w):\n",
    "    sval = 1j*w\n",
    "    gep = tf.subs(s,sval)\n",
    "    new = np.matrix(gep)\n",
    "    return new"
   ]
  },
  {
   "cell_type": "markdown",
   "metadata": {},
   "source": [
    "Process Scaling\n"
   ]
  },
  {
   "cell_type": "code",
   "execution_count": 119,
   "metadata": {
    "collapsed": false
   },
   "outputs": [],
   "source": [
    "from Scaling import scaling,umax,dmax,emax\n",
    "import numpy as np\n",
    "scale = scaling(umax,dmax,emax)\n",
    "new = scale.get_scaled_xfer(Gp_sym,Gd_sym)\n"
   ]
  },
  {
   "cell_type": "code",
   "execution_count": 120,
   "metadata": {
    "collapsed": false
   },
   "outputs": [],
   "source": [
    "Gp_sym = new[0]\n",
    "Gd_sym = new[1]"
   ]
  },
  {
   "cell_type": "code",
   "execution_count": 121,
   "metadata": {
    "collapsed": false
   },
   "outputs": [
    {
     "data": {
      "text/latex": [
       "$$\\left[\\begin{matrix}- \\frac{3.0110723280011 e^{- 138.0 s}}{162.0 s + 1} & \\frac{218.193646956602 \\left(- 1.15 s + 0.000181\\right) e^{- 187.0 s}}{\\left(122.0 s + 1\\right) \\left(343.0 s + 1\\right)} & - \\frac{0.619669957356749 e^{- 135.0 s}}{9428.41 s^{2} + 132.4444 s + 1}\\\\- \\frac{1.872 e^{- 34.5 s}}{198.0 s + 1} & \\frac{8.0 \\left(- 18.6 s + 0.232\\right) e^{- 113.0 s}}{\\left(116.0 s + 1\\right) \\left(348.0 s + 1\\right)} & - \\frac{1.008 e^{- 16.2 s}}{8190.25 s^{2} + 123.623 s + 1}\\\\\\frac{2.00869593250299 e^{- 17.7 s}}{506.0 s + 1} & - \\frac{1.95489157716809 e^{- 43.3 s}}{342.0 s + 1} & \\frac{0.0107788058520919 e^{- 136.0 s}}{190.0 s + 1}\\end{matrix}\\right]$$"
      ],
      "text/plain": [
       "⎡                  -138.0⋅s                                          -187.0⋅s \n",
       "⎢-3.0110723280011⋅ℯ           218.193646956602⋅(-1.15⋅s + 0.000181)⋅ℯ         \n",
       "⎢───────────────────────────  ─────────────────────────────────────────────── \n",
       "⎢        162.0⋅s + 1                    (122.0⋅s + 1)⋅(343.0⋅s + 1)           \n",
       "⎢                                                                             \n",
       "⎢                                                                             \n",
       "⎢             -34.5⋅s                                        -113.0⋅s         \n",
       "⎢     -1.872⋅ℯ                        8.0⋅(-18.6⋅s + 0.232)⋅ℯ                 \n",
       "⎢     ────────────────                ───────────────────────────────         \n",
       "⎢       198.0⋅s + 1                     (116.0⋅s + 1)⋅(348.0⋅s + 1)           \n",
       "⎢                                                                             \n",
       "⎢                                                                             \n",
       "⎢                   -17.7⋅s                                -43.3⋅s            \n",
       "⎢ 2.00869593250299⋅ℯ                    -1.95489157716809⋅ℯ                   \n",
       "⎢ ─────────────────────────             ───────────────────────────           \n",
       "⎣        506.0⋅s + 1                            342.0⋅s + 1                   \n",
       "\n",
       "                     -135.0⋅s ⎤\n",
       " -0.619669957356749⋅ℯ         ⎥\n",
       " ─────────────────────────────⎥\n",
       "           2                  ⎥\n",
       "  9428.41⋅s  + 132.4444⋅s + 1 ⎥\n",
       "                              ⎥\n",
       "               -16.2⋅s        ⎥\n",
       "       -1.008⋅ℯ               ⎥\n",
       "  ──────────────────────────  ⎥\n",
       "           2                  ⎥\n",
       "  8190.25⋅s  + 123.623⋅s + 1  ⎥\n",
       "                              ⎥\n",
       "                     -136.0⋅s ⎥\n",
       " 0.0107788058520919⋅ℯ         ⎥\n",
       " ──────────────────────────── ⎥\n",
       "         190.0⋅s + 1          ⎦"
      ]
     },
     "execution_count": 121,
     "metadata": {},
     "output_type": "execute_result"
    }
   ],
   "source": [
    "Gp_sym"
   ]
  },
  {
   "cell_type": "code",
   "execution_count": 122,
   "metadata": {
    "collapsed": false
   },
   "outputs": [
    {
     "data": {
      "text/latex": [
       "$$\\left[\\begin{matrix}\\frac{1.5500476679797 e^{- 116.0 s}}{191.0 s + 1} & \\frac{0.477298602717566 e^{- 136.0 s}}{73.4 s + 1} & \\frac{1.05615325647461 e^{- 132.0 s}}{170.0 s + 1}\\\\\\frac{1.03008 e^{- 42.5 s}}{82.5 s + 1} & \\frac{0.962 e^{- 22.5 s}}{74.4 s + 1} & \\frac{0.6937964 e^{- 9.03 s}}{4502.41 s^{2} + 88.1694 s + 1}\\\\- \\frac{0.0278374767110224 e^{- 3.57 s}}{432.0 s + 1} & \\frac{21.5665790967397 e^{- 22.5 s}}{74.4 s + 1} & \\frac{0.170993828211339 e^{- 0.353 s}}{478.0 s + 1}\\end{matrix}\\right]$$"
      ],
      "text/plain": [
       "⎡                   -116.0⋅s                       -136.0⋅s                   \n",
       "⎢  1.5500476679797⋅ℯ            0.477298602717566⋅ℯ          1.05615325647461⋅\n",
       "⎢  ─────────────────────────    ───────────────────────────  ─────────────────\n",
       "⎢         191.0⋅s + 1                    73.4⋅s + 1                 170.0⋅s + \n",
       "⎢                                                                             \n",
       "⎢               -42.5⋅s                      -22.5⋅s                        -9\n",
       "⎢      1.03008⋅ℯ                      0.962⋅ℯ                    0.6937964⋅ℯ  \n",
       "⎢      ────────────────               ──────────────         ─────────────────\n",
       "⎢         82.5⋅s + 1                    74.4⋅s + 1                    2       \n",
       "⎢                                                            4502.41⋅s  + 88.1\n",
       "⎢                                                                             \n",
       "⎢                     -3.57⋅s                      -22.5⋅s                    \n",
       "⎢-0.0278374767110224⋅ℯ           21.5665790967397⋅ℯ          0.170993828211339\n",
       "⎢─────────────────────────────   ─────────────────────────   ─────────────────\n",
       "⎣         432.0⋅s + 1                    74.4⋅s + 1                  478.0⋅s +\n",
       "\n",
       " -132.0⋅s ⎤\n",
       "ℯ         ⎥\n",
       "───────── ⎥\n",
       "1         ⎥\n",
       "          ⎥\n",
       ".03⋅s     ⎥\n",
       "          ⎥\n",
       "───────── ⎥\n",
       "          ⎥\n",
       "694⋅s + 1 ⎥\n",
       "          ⎥\n",
       "  -0.353⋅s⎥\n",
       "⋅ℯ        ⎥\n",
       "──────────⎥\n",
       " 1        ⎦"
      ]
     },
     "execution_count": 122,
     "metadata": {},
     "output_type": "execute_result"
    }
   ],
   "source": [
    "Gd_sym"
   ]
  },
  {
   "cell_type": "code",
   "execution_count": 41,
   "metadata": {
    "collapsed": false
   },
   "outputs": [],
   "source": [
    "s = sp.Symbol('s')"
   ]
  },
  {
   "cell_type": "code",
   "execution_count": 43,
   "metadata": {
    "collapsed": false
   },
   "outputs": [],
   "source": [
    "k = ps2t*s"
   ]
  },
  {
   "cell_type": "code",
   "execution_count": 47,
   "metadata": {
    "collapsed": false
   },
   "outputs": [
    {
     "ename": "NotImplementedError",
     "evalue": "multivariate partial fraction decomposition",
     "output_type": "error",
     "traceback": [
      "\u001b[0;31m---------------------------------------------------------------------------\u001b[0m",
      "\u001b[0;31mNotImplementedError\u001b[0m                       Traceback (most recent call last)",
      "\u001b[0;32m<ipython-input-47-7d2e2ae84c7d>\u001b[0m in \u001b[0;36m<module>\u001b[0;34m()\u001b[0m\n\u001b[0;32m----> 1\u001b[0;31m \u001b[0mk\u001b[0m\u001b[1;33m.\u001b[0m\u001b[0mapart\u001b[0m\u001b[1;33m(\u001b[0m\u001b[1;33m)\u001b[0m\u001b[1;33m.\u001b[0m\u001b[0mtogether\u001b[0m\u001b[1;33m(\u001b[0m\u001b[1;33m)\u001b[0m\u001b[1;33m\u001b[0m\u001b[0m\n\u001b[0m",
      "\u001b[0;32mC:\\Users\\Greg\\AppData\\Local\\Continuum\\Anaconda3\\lib\\site-packages\\sympy\\core\\expr.py\u001b[0m in \u001b[0;36mapart\u001b[0;34m(self, x, **args)\u001b[0m\n\u001b[1;32m   3036\u001b[0m         \u001b[1;34m\"\"\"See the apart function in sympy.polys\"\"\"\u001b[0m\u001b[1;33m\u001b[0m\u001b[0m\n\u001b[1;32m   3037\u001b[0m         \u001b[1;32mfrom\u001b[0m \u001b[0msympy\u001b[0m\u001b[1;33m.\u001b[0m\u001b[0mpolys\u001b[0m \u001b[1;32mimport\u001b[0m \u001b[0mapart\u001b[0m\u001b[1;33m\u001b[0m\u001b[0m\n\u001b[0;32m-> 3038\u001b[0;31m         \u001b[1;32mreturn\u001b[0m \u001b[0mapart\u001b[0m\u001b[1;33m(\u001b[0m\u001b[0mself\u001b[0m\u001b[1;33m,\u001b[0m \u001b[0mx\u001b[0m\u001b[1;33m,\u001b[0m \u001b[1;33m**\u001b[0m\u001b[0margs\u001b[0m\u001b[1;33m)\u001b[0m\u001b[1;33m\u001b[0m\u001b[0m\n\u001b[0m\u001b[1;32m   3039\u001b[0m \u001b[1;33m\u001b[0m\u001b[0m\n\u001b[1;32m   3040\u001b[0m     \u001b[1;32mdef\u001b[0m \u001b[0mratsimp\u001b[0m\u001b[1;33m(\u001b[0m\u001b[0mself\u001b[0m\u001b[1;33m)\u001b[0m\u001b[1;33m:\u001b[0m\u001b[1;33m\u001b[0m\u001b[0m\n",
      "\u001b[0;32mC:\\Users\\Greg\\AppData\\Local\\Continuum\\Anaconda3\\lib\\site-packages\\sympy\\utilities\\decorator.py\u001b[0m in \u001b[0;36mthreaded_func\u001b[0;34m(expr, *args, **kwargs)\u001b[0m\n\u001b[1;32m     35\u001b[0m                                       func(expr.rhs, *args, **kwargs))\n\u001b[1;32m     36\u001b[0m             \u001b[1;32melse\u001b[0m\u001b[1;33m:\u001b[0m\u001b[1;33m\u001b[0m\u001b[0m\n\u001b[0;32m---> 37\u001b[0;31m                 \u001b[1;32mreturn\u001b[0m \u001b[0mfunc\u001b[0m\u001b[1;33m(\u001b[0m\u001b[0mexpr\u001b[0m\u001b[1;33m,\u001b[0m \u001b[1;33m*\u001b[0m\u001b[0margs\u001b[0m\u001b[1;33m,\u001b[0m \u001b[1;33m**\u001b[0m\u001b[0mkwargs\u001b[0m\u001b[1;33m)\u001b[0m\u001b[1;33m\u001b[0m\u001b[0m\n\u001b[0m\u001b[1;32m     38\u001b[0m \u001b[1;33m\u001b[0m\u001b[0m\n\u001b[1;32m     39\u001b[0m     \u001b[1;32mreturn\u001b[0m \u001b[0mthreaded_func\u001b[0m\u001b[1;33m\u001b[0m\u001b[0m\n",
      "\u001b[0;32mC:\\Users\\Greg\\AppData\\Local\\Continuum\\Anaconda3\\lib\\site-packages\\sympy\\polys\\partfrac.py\u001b[0m in \u001b[0;36mapart\u001b[0;34m(f, x, full, **options)\u001b[0m\n\u001b[1;32m    121\u001b[0m         \u001b[0mfc\u001b[0m \u001b[1;33m=\u001b[0m \u001b[0mf\u001b[0m\u001b[1;33m.\u001b[0m\u001b[0mcancel\u001b[0m\u001b[1;33m(\u001b[0m\u001b[1;33m)\u001b[0m\u001b[1;33m\u001b[0m\u001b[0m\n\u001b[1;32m    122\u001b[0m         \u001b[1;32mif\u001b[0m \u001b[0mfc\u001b[0m \u001b[1;33m!=\u001b[0m \u001b[0mf\u001b[0m\u001b[1;33m:\u001b[0m\u001b[1;33m\u001b[0m\u001b[0m\n\u001b[0;32m--> 123\u001b[0;31m             \u001b[1;32mreturn\u001b[0m \u001b[0mapart\u001b[0m\u001b[1;33m(\u001b[0m\u001b[0mfc\u001b[0m\u001b[1;33m,\u001b[0m \u001b[0mx\u001b[0m\u001b[1;33m=\u001b[0m\u001b[0mx\u001b[0m\u001b[1;33m,\u001b[0m \u001b[0mfull\u001b[0m\u001b[1;33m=\u001b[0m\u001b[0mfull\u001b[0m\u001b[1;33m,\u001b[0m \u001b[1;33m**\u001b[0m\u001b[0m_options\u001b[0m\u001b[1;33m)\u001b[0m\u001b[1;33m\u001b[0m\u001b[0m\n\u001b[0m\u001b[1;32m    124\u001b[0m \u001b[1;33m\u001b[0m\u001b[0m\n\u001b[1;32m    125\u001b[0m         raise NotImplementedError(\n",
      "\u001b[0;32mC:\\Users\\Greg\\AppData\\Local\\Continuum\\Anaconda3\\lib\\site-packages\\sympy\\utilities\\decorator.py\u001b[0m in \u001b[0;36mthreaded_func\u001b[0;34m(expr, *args, **kwargs)\u001b[0m\n\u001b[1;32m     35\u001b[0m                                       func(expr.rhs, *args, **kwargs))\n\u001b[1;32m     36\u001b[0m             \u001b[1;32melse\u001b[0m\u001b[1;33m:\u001b[0m\u001b[1;33m\u001b[0m\u001b[0m\n\u001b[0;32m---> 37\u001b[0;31m                 \u001b[1;32mreturn\u001b[0m \u001b[0mfunc\u001b[0m\u001b[1;33m(\u001b[0m\u001b[0mexpr\u001b[0m\u001b[1;33m,\u001b[0m \u001b[1;33m*\u001b[0m\u001b[0margs\u001b[0m\u001b[1;33m,\u001b[0m \u001b[1;33m**\u001b[0m\u001b[0mkwargs\u001b[0m\u001b[1;33m)\u001b[0m\u001b[1;33m\u001b[0m\u001b[0m\n\u001b[0m\u001b[1;32m     38\u001b[0m \u001b[1;33m\u001b[0m\u001b[0m\n\u001b[1;32m     39\u001b[0m     \u001b[1;32mreturn\u001b[0m \u001b[0mthreaded_func\u001b[0m\u001b[1;33m\u001b[0m\u001b[0m\n",
      "\u001b[0;32mC:\\Users\\Greg\\AppData\\Local\\Continuum\\Anaconda3\\lib\\site-packages\\sympy\\polys\\partfrac.py\u001b[0m in \u001b[0;36mapart\u001b[0;34m(f, x, full, **options)\u001b[0m\n\u001b[1;32m    124\u001b[0m \u001b[1;33m\u001b[0m\u001b[0m\n\u001b[1;32m    125\u001b[0m         raise NotImplementedError(\n\u001b[0;32m--> 126\u001b[0;31m             \"multivariate partial fraction decomposition\")\n\u001b[0m\u001b[1;32m    127\u001b[0m \u001b[1;33m\u001b[0m\u001b[0m\n\u001b[1;32m    128\u001b[0m     \u001b[0mcommon\u001b[0m\u001b[1;33m,\u001b[0m \u001b[0mP\u001b[0m\u001b[1;33m,\u001b[0m \u001b[0mQ\u001b[0m \u001b[1;33m=\u001b[0m \u001b[0mP\u001b[0m\u001b[1;33m.\u001b[0m\u001b[0mcancel\u001b[0m\u001b[1;33m(\u001b[0m\u001b[0mQ\u001b[0m\u001b[1;33m)\u001b[0m\u001b[1;33m\u001b[0m\u001b[0m\n",
      "\u001b[0;31mNotImplementedError\u001b[0m: multivariate partial fraction decomposition"
     ]
    }
   ],
   "source": []
  },
  {
   "cell_type": "code",
   "execution_count": 61,
   "metadata": {
    "collapsed": false
   },
   "outputs": [
    {
     "data": {
      "text/plain": [
       "array([ 1.,  1.,  1.,  1.,  1.,  1.,  1.,  1.,  1.,  1.])"
      ]
     },
     "execution_count": 61,
     "metadata": {},
     "output_type": "execute_result"
    }
   ],
   "source": [
    "np.ones_like(10)"
   ]
  },
  {
   "cell_type": "code",
   "execution_count": null,
   "metadata": {
    "collapsed": true
   },
   "outputs": [],
   "source": []
  }
 ],
 "metadata": {
  "kernelspec": {
   "display_name": "Python 3",
   "language": "python",
   "name": "python3"
  },
  "language_info": {
   "codemirror_mode": {
    "name": "ipython",
    "version": 3
   },
   "file_extension": ".py",
   "mimetype": "text/x-python",
   "name": "python",
   "nbconvert_exporter": "python",
   "pygments_lexer": "ipython3",
   "version": "3.6.0"
  }
 },
 "nbformat": 4,
 "nbformat_minor": 2
}
